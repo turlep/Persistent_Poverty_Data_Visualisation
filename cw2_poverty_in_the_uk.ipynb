{
 "cells": [
  {
   "cell_type": "code",
   "execution_count": 1,
   "metadata": {},
   "outputs": [],
   "source": [
    "import pandas as pd\n",
    "import numpy as np\n",
    "import matplotlib.pyplot as plt\n",
    "from matplotlib.ticker import FuncFormatter"
   ]
  },
  {
   "cell_type": "markdown",
   "metadata": {},
   "source": [
    "# Exploring Poverty in the UK"
   ]
  },
  {
   "cell_type": "markdown",
   "metadata": {},
   "source": [
    "I will be exploring poverty in the UK in relation to temporal trends, causes and comparisons with Europe. I am not hoping to prove anything in particular, I would like to be able to visualise the pre-Brexit statistics of impoverishment in the UK. \n",
    "Though we cannot compare it to post-Brexit stats, maybe one day (a few years down the line) someone will want to find the actual impact, as opposed to speculating.  \n",
    "\n",
    "the [social metrics commision](https://socialmetricscommission.org.uk/) is an organisation working on better defining poverty in the hope of impacting future policy, and have already received government attention within the UK. They define absolute poverty as 60% of the median household income. Theoretically this value doesn't change much aside from a rise with inflation, but I will be using definitions given by [ons](https://www.ons.gov.uk/peoplepopulationandcommunity/personalandhouseholdfinances/incomeandwealth/articles/persistentpovertyintheukandeu/2017#glossary) as this is where I obtained my data.  \n",
    "\n",
    "There are some definitions that will be needed for this report, all of which are relative to households, or communities where incomes are largely communal:  \n",
    "\n",
    "- Poverty: As per in the Child Poverty Act (2010), poverty is 'household income below 60 percent of median income'.  \n",
    "\n",
    "     This release uses at-risk-of-poverty to define poverty, which is as aforementioned except the  \n",
    "     'equivalised disposible income' per household is used as oppoed to household income  \n",
    "\n",
    "    In 2017, the median household income was £27,300 making the poverty line £16,380. Unfortunately I have not  \n",
    "    been able to find an at-risk-of-poverty equivalent\n",
    "\n",
    "\n",
    "- Material deprivation: An individual is in severe material deprivation if they do not have the ability to  \n",
    "  afford four or more of the following conditions:    \n",
    "\n",
    "  * to not have arrears on your mortgage or rent payments, hire purchase instalments or other loan payments  \n",
    "  * to afford a one-week annual holiday away from home  \n",
    "  * to afford a meal with meat, chicken, fish or a vegetarian equivalent every other day  \n",
    "  * to be able to face unexpected financial expenses  \n",
    "  * to afford a telephone or mobile phone  \n",
    "  * to afford a colour television  \n",
    "  * to afford a washing machine  \n",
    "  * to afford a car  \n",
    "  * to afford to keep the home adequately warm  \n",
    "  \n",
    "  Material deprovation tends to indicate a long period of poverty and is  \n",
    "  often linked to mental health issues (by either cause or effect)    \n",
    "  \n",
    "  \n",
    "- Persistent poverty: An individual is in persistent poverty if they are in poverty for the current  \n",
    "  year as well as two of the past three years.    \n",
    "  \n",
    "  \n",
    "- In this analysis, Europe is defined as EU28 and other select countries: (Norway, Turkey, Serbia and North Macedonia) who are not members of the EU. Slovakia’s data for persistent poverty is unavailable.\n",
    "\n",
    "The median household income in the UK was sourced from the [Office for National Statisitics](https://www.ons.gov.uk/peoplepopulationandcommunity/personalandhouseholdfinances/incomeandwealth/bulletins/householddisposableincomeandinequality/financialyearending2017). I have used datasets from the [Office for National Statisitics](https://www.ons.gov.uk), and [Eurostat](https://ec.europa.eu/eurostat). "
   ]
  },
  {
   "cell_type": "markdown",
   "metadata": {},
   "source": [
    "## Material Deprivation and Poverty (UK 2017)"
   ]
  },
  {
   "cell_type": "markdown",
   "metadata": {},
   "source": [
    "### Percentage of individuals who meet certain material deprivation items\n",
    "\n",
    "I will begin with statistics regarding poverty and material deprivation in the UK.  \n",
    "\n",
    "The following data frame shows the percent amount of people in the UK that meet certain material deprivation items, regardless of poverty status. As per the definition above, living in material deprivation is only classed as having 4 or more of these items.\n"
   ]
  },
  {
   "cell_type": "code",
   "execution_count": 2,
   "metadata": {},
   "outputs": [
    {
     "data": {
      "text/html": [
       "<div>\n",
       "<style scoped>\n",
       "    .dataframe tbody tr th:only-of-type {\n",
       "        vertical-align: middle;\n",
       "    }\n",
       "\n",
       "    .dataframe tbody tr th {\n",
       "        vertical-align: top;\n",
       "    }\n",
       "\n",
       "    .dataframe thead th {\n",
       "        text-align: right;\n",
       "    }\n",
       "</style>\n",
       "<table border=\"1\" class=\"dataframe\">\n",
       "  <thead>\n",
       "    <tr style=\"text-align: right;\">\n",
       "      <th></th>\n",
       "      <th>UK Percentage</th>\n",
       "    </tr>\n",
       "    <tr>\n",
       "      <th>Deprivation Items</th>\n",
       "      <th></th>\n",
       "    </tr>\n",
       "  </thead>\n",
       "  <tbody>\n",
       "    <tr>\n",
       "      <th>Cannot face unexpected expenses</th>\n",
       "      <td>32.9%</td>\n",
       "    </tr>\n",
       "    <tr>\n",
       "      <th>Cannot afford one week annual holiday</th>\n",
       "      <td>23.7%</td>\n",
       "    </tr>\n",
       "    <tr>\n",
       "      <th>Arrears on Mortgage, Rental Payments, Ulitity bills, or puchase installments</th>\n",
       "      <td>8.0%</td>\n",
       "    </tr>\n",
       "    <tr>\n",
       "      <th>Cannot afford to keep home adequately warm</th>\n",
       "      <td>5.9%</td>\n",
       "    </tr>\n",
       "    <tr>\n",
       "      <th>Do not have a car</th>\n",
       "      <td>5.8%</td>\n",
       "    </tr>\n",
       "    <tr>\n",
       "      <th>Cannot afford a meal with meat or vegetarian equilvalent every second day</th>\n",
       "      <td>5.1%</td>\n",
       "    </tr>\n",
       "  </tbody>\n",
       "</table>\n",
       "</div>"
      ],
      "text/plain": [
       "                                                   UK Percentage\n",
       "Deprivation Items                                               \n",
       "Cannot face unexpected expenses                            32.9%\n",
       "Cannot afford one week annual holiday                      23.7%\n",
       "Arrears on Mortgage, Rental Payments, Ulitity b...          8.0%\n",
       "Cannot afford to keep home adequately warm                  5.9%\n",
       "Do not have a car                                           5.8%\n",
       "Cannot afford a meal with meat or vegetarian eq...          5.1%"
      ]
     },
     "execution_count": 2,
     "metadata": {},
     "output_type": "execute_result"
    }
   ],
   "source": [
    "# table 11: Percentage of individuals who meet certain material deprivation items\n",
    "df = pd.read_excel('CW dataset - Persistent Poverty in the UK and EU, 2017.xls', \n",
    "                   sheet_name='Table 11', \n",
    "                   header=1, \n",
    "                   names=[\"Deprivation Items\", \"UK Percentage\"], \n",
    "                   index_col=\"Deprivation Items\", \n",
    "                   usecols=\"A:B\", \n",
    "                   skipfooter=5\n",
    "                  ) \n",
    "\n",
    "# set existing index as categorical dtype\n",
    "pd.CategoricalIndex(df)\n",
    "\n",
    "# change decimal to percentage value, without the symbol\n",
    "df['UK Percentage'] = (df['UK Percentage']*100).astype('float').round(1)\n",
    "\n",
    "# df_vis holds an easily human readable database\n",
    "df_vis = df.copy()\n",
    "df_vis['UK Percentage'] = (df_vis['UK Percentage']).astype(str) + '%'\n",
    "\n",
    "df_vis"
   ]
  },
  {
   "cell_type": "code",
   "execution_count": 3,
   "metadata": {},
   "outputs": [
    {
     "data": {
      "image/png": "[encoded data removed]",
      "text/plain": [
       "<Figure size 432x288 with 1 Axes>"
      ]
     },
     "metadata": {
      "needs_background": "light"
     },
     "output_type": "display_data"
    }
   ],
   "source": [
    "ax = df.plot.barh(title=\"Percentage of individuals who meet certain material deprivation items\", grid=True)\n",
    "ax.set_ylabel(\"\")\n",
    "ax.invert_yaxis()"
   ]
  },
  {
   "cell_type": "markdown",
   "metadata": {},
   "source": [
    "32.9% of UK residents being unable to face unexpected expenses shows a surprising lack of financial stability for a large amount of the population. 5.1% being unable to afford a car seems less surprising. Being unable to pay arrears on a Mortgage seems like a strange material deprivation item, as having a mortgage is a luxury in the first place. \n",
    "\n",
    "I used a horizontal bar here to account for the long category names."
   ]
  },
  {
   "cell_type": "markdown",
   "metadata": {},
   "source": [
    "### Rate of material deprivation by poverty group\n",
    "\n",
    "The following data frame separates the population into 3 status: persistent poverty, poverty and not poverty. The pie charts compare the rates of material deprivation against persistent material deprivation by poverty group.  \n",
    "\n",
    "For clarity, those considered in persistent material deprivation are also considered to be in material deprivation.\n"
   ]
  },
  {
   "cell_type": "code",
   "execution_count": 4,
   "metadata": {},
   "outputs": [
    {
     "data": {
      "text/html": [
       "<div>\n",
       "<style scoped>\n",
       "    .dataframe tbody tr th:only-of-type {\n",
       "        vertical-align: middle;\n",
       "    }\n",
       "\n",
       "    .dataframe tbody tr th {\n",
       "        vertical-align: top;\n",
       "    }\n",
       "\n",
       "    .dataframe thead th {\n",
       "        text-align: right;\n",
       "    }\n",
       "</style>\n",
       "<table border=\"1\" class=\"dataframe\">\n",
       "  <thead>\n",
       "    <tr style=\"text-align: right;\">\n",
       "      <th></th>\n",
       "      <th>Material Deprivation</th>\n",
       "      <th>Persistent Material Deprivation</th>\n",
       "    </tr>\n",
       "    <tr>\n",
       "      <th>Poverty Status</th>\n",
       "      <th></th>\n",
       "      <th></th>\n",
       "    </tr>\n",
       "  </thead>\n",
       "  <tbody>\n",
       "    <tr>\n",
       "      <th>Overall population</th>\n",
       "      <td>4.1%</td>\n",
       "      <td>2.1%</td>\n",
       "    </tr>\n",
       "    <tr>\n",
       "      <th>Not in Poverty</th>\n",
       "      <td>2.4%</td>\n",
       "      <td>1.0%</td>\n",
       "    </tr>\n",
       "    <tr>\n",
       "      <th>Poverty</th>\n",
       "      <td>13.2%</td>\n",
       "      <td>7.3%</td>\n",
       "    </tr>\n",
       "    <tr>\n",
       "      <th>Persistent Poverty</th>\n",
       "      <td>18.5%</td>\n",
       "      <td>10.4%</td>\n",
       "    </tr>\n",
       "  </tbody>\n",
       "</table>\n",
       "</div>"
      ],
      "text/plain": [
       "                   Material Deprivation Persistent Material Deprivation\n",
       "Poverty Status                                                         \n",
       "Overall population                 4.1%                            2.1%\n",
       "Not in Poverty                     2.4%                            1.0%\n",
       "Poverty                           13.2%                            7.3%\n",
       "Persistent Poverty                18.5%                           10.4%"
      ]
     },
     "execution_count": 4,
     "metadata": {},
     "output_type": "execute_result"
    }
   ],
   "source": [
    "# sheet 10 (UK Material deprivation and persistent material deprivation by poverty status, 2017)\n",
    "df = pd.read_excel('CW dataset - Persistent Poverty in the UK and EU, 2017.xls', \n",
    "                   sheet_name='Table 10', \n",
    "                   header=2, \n",
    "                   names=[\"Poverty Status\", \"Material Deprivation\", \"Persistent Material Deprivation\"], \n",
    "                   index_col=\"Poverty Status\", \n",
    "                   usecols=\"A:C\", \n",
    "                   skipfooter=6\n",
    "                  ) \n",
    "\n",
    "pd.CategoricalIndex(df)\n",
    "\n",
    "# edit values to aid future visualisations (as in percentiles)\n",
    "df['Material Deprivation'] = (df['Material Deprivation']*100).astype('float').round(1)\n",
    "df['Persistent Material Deprivation'] = (df['Persistent Material Deprivation']*100).astype('float').round(1)\n",
    "\n",
    "# df_vis\n",
    "df_vis = df.copy()\n",
    "df_vis['Material Deprivation'] = (df_vis['Material Deprivation']).astype(str) + '%'\n",
    "df_vis['Persistent Material Deprivation'] = (df_vis['Persistent Material Deprivation']).astype(str) + '%'\n",
    "\n",
    "df_vis"
   ]
  },
  {
   "cell_type": "code",
   "execution_count": 5,
   "metadata": {},
   "outputs": [
    {
     "data": {
      "image/png": "[encoded data removed]",
      "text/plain": [
       "<Figure size 432x288 with 1 Axes>"
      ]
     },
     "metadata": {
      "needs_background": "light"
     },
     "output_type": "display_data"
    }
   ],
   "source": [
    "ax = df.plot(kind=\"bar\", grid = False, title=\"Percentage material deprivation by poverty group\")"
   ]
  },
  {
   "cell_type": "markdown",
   "metadata": {},
   "source": [
    "We can see a clear correlation between poverty and material deprivation. 18.5% of those in persistent poverty were in material deprivation and 10.4% were in persistent material deprivation.  \n",
    "\n",
    "This visualisation is to show the trend, meaning I don't need a grid and the values are sorted by poverty status"
   ]
  },
  {
   "cell_type": "code",
   "execution_count": 6,
   "metadata": {},
   "outputs": [
    {
     "name": "stdout",
     "output_type": "stream",
     "text": [
      "These charts show the deprivation status amongst those materially deprived, by poverty group \n",
      "\n"
     ]
    },
    {
     "data": {
      "image/png": "[encoded data removed]",
      "text/plain": [
       "<Figure size 432x288 with 4 Axes>"
      ]
     },
     "metadata": {},
     "output_type": "display_data"
    }
   ],
   "source": [
    "# make series' for pie charts\n",
    "md = df['Material Deprivation']\n",
    "pmd = df['Persistent Material Deprivation']\n",
    "\n",
    "# due to the cumulative nature of the data, I have to subtract the pmd from the md values to compare severity\n",
    "s1 = [md[\"Overall population\"]-pmd[\"Overall population\"], pmd[\"Overall population\"]]\n",
    "s2 = [md[\"Not in Poverty\"]-pmd[\"Not in Poverty\"], pmd[\"Not in Poverty\"]]\n",
    "s3 = [md[\"Poverty\"]-pmd[\"Poverty\"], pmd[\"Poverty\"]]\n",
    "s4 = [md[\"Persistent Poverty\"]-pmd[\"Persistent Poverty\"], pmd[\"Persistent Poverty\"]]\n",
    "\n",
    "plt.subplot(1, 7, 1)\n",
    "plt.pie(s1, radius=5, labels = [\"Overall Population\", \"\"], autopct='%1.0f%%', pctdistance=0.4)\n",
    "plt.subplot(1, 7, 3)\n",
    "plt.pie(s2, radius=5, labels = [\"Not In Poverty\", \"\"], autopct='%1.0f%%', pctdistance=0.4)\n",
    "plt.subplot(1, 7, 5)\n",
    "plt.pie(s3, radius=5, labels = [\"Poverty\", \"\"], autopct='%1.0f%%', pctdistance=0.4)\n",
    "plt.subplot(1, 7, 7)\n",
    "plt.pie(s4, radius=5, labels = [\"Persistent Poverty\", \"\"], autopct='%1.0f%%', pctdistance=0.4)\n",
    "\n",
    "plt.subplots_adjust(left  = 0.125, bottom = 0.1, right = 2, top = 0.9, wspace=2, hspace=0.2)\n",
    "plt.legend(df, loc=\"right\", bbox_to_anchor=(7, 0, 0.5, 1))\n",
    "\n",
    "print(\"These charts show the deprivation status amongst those materially deprived, by poverty group \\n\")"
   ]
  },
  {
   "cell_type": "markdown",
   "metadata": {},
   "source": [
    "Considering that these only show the materially deprived, we can see that deprivation for elongated periods is much more common amongst impoverished individuals. On average, approximately half of overall material deprivation is persistent.  \n",
    "\n",
    "In conclusion, it seems reasonable to correlate severity of poverty with severity of with material deprivation.  \n",
    "\n",
    "Pie charts are only useful for showing percentile comparisons, so are used here"
   ]
  },
  {
   "cell_type": "markdown",
   "metadata": {},
   "source": [
    "## Poverty over time (UK 2008-2017)"
   ]
  },
  {
   "cell_type": "markdown",
   "metadata": {},
   "source": [
    "###   Entry and exit rates into poverty   \n",
    "\n",
    "Here we will be observing the entry and exit rates into poverty over time. Is should be noted that entry rates into poverty are based on the entire population, where exit rates are based on the population living in poverty, meaning the scale is different and we should not compare the actual values but rather the gradients or trends. "
   ]
  },
  {
   "cell_type": "code",
   "execution_count": 7,
   "metadata": {},
   "outputs": [
    {
     "data": {
      "text/html": [
       "<div>\n",
       "<style scoped>\n",
       "    .dataframe tbody tr th:only-of-type {\n",
       "        vertical-align: middle;\n",
       "    }\n",
       "\n",
       "    .dataframe tbody tr th {\n",
       "        vertical-align: top;\n",
       "    }\n",
       "\n",
       "    .dataframe thead th {\n",
       "        text-align: right;\n",
       "    }\n",
       "</style>\n",
       "<table border=\"1\" class=\"dataframe\">\n",
       "  <thead>\n",
       "    <tr style=\"text-align: right;\">\n",
       "      <th></th>\n",
       "      <th>Entry</th>\n",
       "      <th>Exit</th>\n",
       "    </tr>\n",
       "    <tr>\n",
       "      <th>Year</th>\n",
       "      <th></th>\n",
       "      <th></th>\n",
       "    </tr>\n",
       "  </thead>\n",
       "  <tbody>\n",
       "    <tr>\n",
       "      <th>2008</th>\n",
       "      <td>8.2</td>\n",
       "      <td>39.6</td>\n",
       "    </tr>\n",
       "    <tr>\n",
       "      <th>2009</th>\n",
       "      <td>8.8</td>\n",
       "      <td>47.0</td>\n",
       "    </tr>\n",
       "    <tr>\n",
       "      <th>2010</th>\n",
       "      <td>8.8</td>\n",
       "      <td>46.1</td>\n",
       "    </tr>\n",
       "    <tr>\n",
       "      <th>2011</th>\n",
       "      <td>6.4</td>\n",
       "      <td>52.2</td>\n",
       "    </tr>\n",
       "    <tr>\n",
       "      <th>2012</th>\n",
       "      <td>9.0</td>\n",
       "      <td>50.4</td>\n",
       "    </tr>\n",
       "    <tr>\n",
       "      <th>2013</th>\n",
       "      <td>7.6</td>\n",
       "      <td>47.8</td>\n",
       "    </tr>\n",
       "    <tr>\n",
       "      <th>2014</th>\n",
       "      <td>6.5</td>\n",
       "      <td>49.7</td>\n",
       "    </tr>\n",
       "    <tr>\n",
       "      <th>2015</th>\n",
       "      <td>7.4</td>\n",
       "      <td>49.5</td>\n",
       "    </tr>\n",
       "    <tr>\n",
       "      <th>2016</th>\n",
       "      <td>6.4</td>\n",
       "      <td>44.6</td>\n",
       "    </tr>\n",
       "    <tr>\n",
       "      <th>2017</th>\n",
       "      <td>8.6</td>\n",
       "      <td>41.8</td>\n",
       "    </tr>\n",
       "  </tbody>\n",
       "</table>\n",
       "</div>"
      ],
      "text/plain": [
       "      Entry  Exit\n",
       "Year             \n",
       "2008    8.2  39.6\n",
       "2009    8.8  47.0\n",
       "2010    8.8  46.1\n",
       "2011    6.4  52.2\n",
       "2012    9.0  50.4\n",
       "2013    7.6  47.8\n",
       "2014    6.5  49.7\n",
       "2015    7.4  49.5\n",
       "2016    6.4  44.6\n",
       "2017    8.6  41.8"
      ]
     },
     "execution_count": 7,
     "metadata": {},
     "output_type": "execute_result"
    }
   ],
   "source": [
    "# Table 4. UK Entry and exit rates into poverty, 2008 - 2017\n",
    "df = pd.read_excel('CW dataset - Persistent Poverty in the UK and EU, 2017.xls', \n",
    "                   sheet_name='Table 4', \n",
    "                   header=1, \n",
    "                   usecols=\"A:C\", \n",
    "                   names=[\"Year\", \"Entry\", \"Exit\"], \n",
    "                   index_col=\"Year\", \n",
    "                   skipfooter=6\n",
    "                  ) \n",
    "\n",
    "df.index = pd.to_datetime(df.index, format='%Y').year\n",
    "df['Entry'] = (df['Entry']).astype('float').round(1)\n",
    "df['Exit'] = (df['Exit']).astype('float').round(1)\n",
    "\n",
    "\n",
    "# df_vis\n",
    "df_vis = df.copy()\n",
    "df_vis['Entry'] = (df_vis['Entry']).astype(str) + '%'\n",
    "df_vis['Exit'] = (df_vis['Exit']).astype(str) + '%'\n",
    "\n",
    "df"
   ]
  },
  {
   "cell_type": "code",
   "execution_count": 8,
   "metadata": {},
   "outputs": [
    {
     "name": "stdout",
     "output_type": "stream",
     "text": [
      "\n"
     ]
    },
    {
     "data": {
      "image/png": "[encoded data removed]",
      "text/plain": [
       "<Figure size 432x288 with 1 Axes>"
      ]
     },
     "metadata": {
      "needs_background": "light"
     },
     "output_type": "display_data"
    }
   ],
   "source": [
    "ax = df.plot(kind=\"line\", grid=True, title=\"Percent Entry and Exit rates into poverty\", xticks=df.index)\n",
    "print()"
   ]
  },
  {
   "cell_type": "markdown",
   "metadata": {},
   "source": [
    "We can see that the entry rate into poverty is more or less stable between 2008 and 2017. The exit rate was increasing between 2008 and 2011 and stayed approximately stable until 2015, where it started dropping.  \n",
    "\n",
    "In 2008 the exit rate was 39.6% and in 2017 it was 41.8%, which are not hugely dissimilar but looking at the years in between we can see that people within poverty are more likey to be experiencing it persistently, or are becoming less likely to exit poverty.  \n",
    "\n",
    "The entry rates between 2011 and 2017 were 8.2% and 8.6% respectively, and did not change significantly during this time.  \n",
    "In 2011 both the entry and exit rates show that poverty rates were trending negatively for this year. \n"
   ]
  },
  {
   "cell_type": "markdown",
   "metadata": {},
   "source": [
    "### Rates of Material deprivation\n",
    "\n",
    "Viewing the rates of material deprivation over the same time period"
   ]
  },
  {
   "cell_type": "code",
   "execution_count": 9,
   "metadata": {},
   "outputs": [
    {
     "data": {
      "text/html": [
       "<div>\n",
       "<style scoped>\n",
       "    .dataframe tbody tr th:only-of-type {\n",
       "        vertical-align: middle;\n",
       "    }\n",
       "\n",
       "    .dataframe tbody tr th {\n",
       "        vertical-align: top;\n",
       "    }\n",
       "\n",
       "    .dataframe thead th {\n",
       "        text-align: right;\n",
       "    }\n",
       "</style>\n",
       "<table border=\"1\" class=\"dataframe\">\n",
       "  <thead>\n",
       "    <tr style=\"text-align: right;\">\n",
       "      <th></th>\n",
       "      <th>Material Deprivation</th>\n",
       "      <th>Persistent Material Deprivation</th>\n",
       "    </tr>\n",
       "    <tr>\n",
       "      <th>Year</th>\n",
       "      <th></th>\n",
       "      <th></th>\n",
       "    </tr>\n",
       "  </thead>\n",
       "  <tbody>\n",
       "    <tr>\n",
       "      <th>2008</th>\n",
       "      <td>4.5%</td>\n",
       "      <td>0.6%</td>\n",
       "    </tr>\n",
       "    <tr>\n",
       "      <th>2009</th>\n",
       "      <td>3.3%</td>\n",
       "      <td>1.1%</td>\n",
       "    </tr>\n",
       "    <tr>\n",
       "      <th>2010</th>\n",
       "      <td>4.8%</td>\n",
       "      <td>0.9%</td>\n",
       "    </tr>\n",
       "    <tr>\n",
       "      <th>2011</th>\n",
       "      <td>5.1%</td>\n",
       "      <td>1.5%</td>\n",
       "    </tr>\n",
       "    <tr>\n",
       "      <th>2012</th>\n",
       "      <td>7.8%</td>\n",
       "      <td>1.8%</td>\n",
       "    </tr>\n",
       "    <tr>\n",
       "      <th>2013</th>\n",
       "      <td>8.3%</td>\n",
       "      <td>2.6%</td>\n",
       "    </tr>\n",
       "    <tr>\n",
       "      <th>2014</th>\n",
       "      <td>7.4%</td>\n",
       "      <td>3.6%</td>\n",
       "    </tr>\n",
       "    <tr>\n",
       "      <th>2015</th>\n",
       "      <td>6.1%</td>\n",
       "      <td>4.5%</td>\n",
       "    </tr>\n",
       "    <tr>\n",
       "      <th>2016</th>\n",
       "      <td>5.2%</td>\n",
       "      <td>2.6%</td>\n",
       "    </tr>\n",
       "    <tr>\n",
       "      <th>2017</th>\n",
       "      <td>4.1%</td>\n",
       "      <td>2.1%</td>\n",
       "    </tr>\n",
       "  </tbody>\n",
       "</table>\n",
       "</div>"
      ],
      "text/plain": [
       "     Material Deprivation Persistent Material Deprivation\n",
       "Year                                                     \n",
       "2008                 4.5%                            0.6%\n",
       "2009                 3.3%                            1.1%\n",
       "2010                 4.8%                            0.9%\n",
       "2011                 5.1%                            1.5%\n",
       "2012                 7.8%                            1.8%\n",
       "2013                 8.3%                            2.6%\n",
       "2014                 7.4%                            3.6%\n",
       "2015                 6.1%                            4.5%\n",
       "2016                 5.2%                            2.6%\n",
       "2017                 4.1%                            2.1%"
      ]
     },
     "metadata": {},
     "output_type": "display_data"
    }
   ],
   "source": [
    "# Table 9. UK Material deprivation and persistent material deprivation rates, 2008-2017\n",
    "\n",
    "df = pd.read_excel('CW dataset - Persistent Poverty in the UK and EU, 2017.xls', \n",
    "                   sheet_name='Table 9', \n",
    "                   header=1, \n",
    "                   usecols=\"A:C\", \n",
    "                   names=[\"Year\", \"Material Deprivation\", \"Persistent Material Deprivation\"], \n",
    "                   index_col=\"Year\", \n",
    "                   skiprows=0, \n",
    "                   skipfooter=5\n",
    "                  ) \n",
    "\n",
    "# datetime index\n",
    "df.index = pd.to_datetime(df.index, format='%Y').year\n",
    "\n",
    "df['Material Deprivation'] = (df['Material Deprivation']).astype('float').round(1)\n",
    "df['Persistent Material Deprivation'] = (df['Persistent Material Deprivation']).astype('float').round(1)\n",
    "\n",
    "\n",
    "# df_vis holds this data frames with percentile values to aid readability\n",
    "df_vis = df.copy()\n",
    "df_vis['Material Deprivation'] = (df_vis['Material Deprivation']).astype(str) + '%'\n",
    "df_vis['Persistent Material Deprivation'] = (df_vis['Persistent Material Deprivation']).astype(str) + '%'\n",
    "\n",
    "\n",
    "display(df_vis)"
   ]
  },
  {
   "cell_type": "code",
   "execution_count": 10,
   "metadata": {},
   "outputs": [
    {
     "data": {
      "image/png": "[encoded data removed]",
      "text/plain": [
       "<Figure size 432x288 with 1 Axes>"
      ]
     },
     "metadata": {
      "needs_background": "light"
     },
     "output_type": "display_data"
    }
   ],
   "source": [
    "ax = df.plot(kind=\"line\", grid=True, xticks=df.index, title=\"Percentage material deprivation of UK population\")"
   ]
  },
  {
   "cell_type": "markdown",
   "metadata": {},
   "source": [
    "Material deprivation rates have been steadily decreasing between 2013 and 2017 (around 1% each year). Persistent material deprivation rates started falling rapidly at around 2015, after peaking at 4.5%. Studying this table and the above, it seems logical to expect deprivation to rise after 2015 (in accordance with the lower rates of exit from poverty). Since this did not happen we can assume that though there does seem to be some kind of correlation, a direct and purely financial link is maybe not the case. \n",
    "\n",
    "It should be noted that the ranges of the axis are different in the 2 graphs above, and there are many factors to consider regarding poverty and deprivation, such as policy or temporal events."
   ]
  },
  {
   "cell_type": "markdown",
   "metadata": {},
   "source": [
    "## European Poverty"
   ]
  },
  {
   "cell_type": "markdown",
   "metadata": {},
   "source": [
    "## UK against the EU average (2008 - 2017)\n",
    "\n",
    "The following is a comparison of poverty rates between the UK and the EU average, for poverty and persistent poverty"
   ]
  },
  {
   "cell_type": "code",
   "execution_count": 11,
   "metadata": {},
   "outputs": [
    {
     "data": {
      "text/html": [
       "<div>\n",
       "<style scoped>\n",
       "    .dataframe tbody tr th:only-of-type {\n",
       "        vertical-align: middle;\n",
       "    }\n",
       "\n",
       "    .dataframe tbody tr th {\n",
       "        vertical-align: top;\n",
       "    }\n",
       "\n",
       "    .dataframe thead th {\n",
       "        text-align: right;\n",
       "    }\n",
       "</style>\n",
       "<table border=\"1\" class=\"dataframe\">\n",
       "  <thead>\n",
       "    <tr style=\"text-align: right;\">\n",
       "      <th></th>\n",
       "      <th>Overall poverty - UK</th>\n",
       "      <th>Overall poverty - EU</th>\n",
       "      <th>Persistent poverty - UK</th>\n",
       "      <th>Persistent poverty - EU</th>\n",
       "    </tr>\n",
       "    <tr>\n",
       "      <th>Year</th>\n",
       "      <th></th>\n",
       "      <th></th>\n",
       "      <th></th>\n",
       "      <th></th>\n",
       "    </tr>\n",
       "  </thead>\n",
       "  <tbody>\n",
       "    <tr>\n",
       "      <th>2008</th>\n",
       "      <td>18.7%</td>\n",
       "      <td>16.6%</td>\n",
       "      <td>8.5%</td>\n",
       "      <td>8.7%</td>\n",
       "    </tr>\n",
       "    <tr>\n",
       "      <th>2009</th>\n",
       "      <td>17.3%</td>\n",
       "      <td>16.4%</td>\n",
       "      <td>8.0%</td>\n",
       "      <td>9.2%</td>\n",
       "    </tr>\n",
       "    <tr>\n",
       "      <th>2010</th>\n",
       "      <td>17.1%</td>\n",
       "      <td>16.5%</td>\n",
       "      <td>7.4%</td>\n",
       "      <td>10.0%</td>\n",
       "    </tr>\n",
       "    <tr>\n",
       "      <th>2011</th>\n",
       "      <td>16.2%</td>\n",
       "      <td>16.9%</td>\n",
       "      <td>6.9%</td>\n",
       "      <td>9.8%</td>\n",
       "    </tr>\n",
       "    <tr>\n",
       "      <th>2012</th>\n",
       "      <td>16.0%</td>\n",
       "      <td>16.8%</td>\n",
       "      <td>8.6%</td>\n",
       "      <td>10.3%</td>\n",
       "    </tr>\n",
       "    <tr>\n",
       "      <th>2013</th>\n",
       "      <td>15.9%</td>\n",
       "      <td>16.7%</td>\n",
       "      <td>7.8%</td>\n",
       "      <td>10.0%</td>\n",
       "    </tr>\n",
       "    <tr>\n",
       "      <th>2014</th>\n",
       "      <td>16.8%</td>\n",
       "      <td>17.2%</td>\n",
       "      <td>6.5%</td>\n",
       "      <td>10.3%</td>\n",
       "    </tr>\n",
       "    <tr>\n",
       "      <th>2015</th>\n",
       "      <td>16.6%</td>\n",
       "      <td>17.3%</td>\n",
       "      <td>7.3%</td>\n",
       "      <td>10.9%</td>\n",
       "    </tr>\n",
       "    <tr>\n",
       "      <th>2016</th>\n",
       "      <td>15.9%</td>\n",
       "      <td>17.3%</td>\n",
       "      <td>9.4%</td>\n",
       "      <td>11.0%</td>\n",
       "    </tr>\n",
       "    <tr>\n",
       "      <th>2017</th>\n",
       "      <td>17.0%</td>\n",
       "      <td>16.9%</td>\n",
       "      <td>7.8%</td>\n",
       "      <td>11.3%</td>\n",
       "    </tr>\n",
       "  </tbody>\n",
       "</table>\n",
       "</div>"
      ],
      "text/plain": [
       "     Overall poverty - UK Overall poverty - EU Persistent poverty - UK  \\\n",
       "Year                                                                     \n",
       "2008                18.7%                16.6%                    8.5%   \n",
       "2009                17.3%                16.4%                    8.0%   \n",
       "2010                17.1%                16.5%                    7.4%   \n",
       "2011                16.2%                16.9%                    6.9%   \n",
       "2012                16.0%                16.8%                    8.6%   \n",
       "2013                15.9%                16.7%                    7.8%   \n",
       "2014                16.8%                17.2%                    6.5%   \n",
       "2015                16.6%                17.3%                    7.3%   \n",
       "2016                15.9%                17.3%                    9.4%   \n",
       "2017                17.0%                16.9%                    7.8%   \n",
       "\n",
       "     Persistent poverty - EU  \n",
       "Year                          \n",
       "2008                    8.7%  \n",
       "2009                    9.2%  \n",
       "2010                   10.0%  \n",
       "2011                    9.8%  \n",
       "2012                   10.3%  \n",
       "2013                   10.0%  \n",
       "2014                   10.3%  \n",
       "2015                   10.9%  \n",
       "2016                   11.0%  \n",
       "2017                   11.3%  "
      ]
     },
     "execution_count": 11,
     "metadata": {},
     "output_type": "execute_result"
    }
   ],
   "source": [
    "# Table 2. UK and EU average persistent and poverty rates, 2008-2017, percentage total population\n",
    "\n",
    "df = pd.read_excel('CW dataset - Persistent Poverty in the UK and EU, 2017.xls', \n",
    "                   sheet_name='Table 2', \n",
    "                   header= 2,  \n",
    "                   usecols=\"A:C, E:F\", \n",
    "                   names=[\"Year\", \n",
    "                          \"Overall poverty - UK\", \"Overall poverty - EU\", \n",
    "                          \"Persistent poverty - UK\", \"Persistent poverty - EU\"\n",
    "                         ], \n",
    "                   index_col=\"Year\", \n",
    "                   skipfooter=5\n",
    "                    ) \n",
    "\n",
    "# datetime index\n",
    "df.index = pd.to_datetime(df.index, format='%Y').year\n",
    "\n",
    "# df_vis\n",
    "df_vis = df.copy()\n",
    "df_vis['Overall poverty - UK'] = (df_vis['Overall poverty - UK']).astype(str) + '%'\n",
    "df_vis['Overall poverty - EU'] = (df_vis['Overall poverty - EU']).astype(str) + '%'\n",
    "df_vis['Persistent poverty - UK'] = (df_vis['Persistent poverty - UK']).astype(str) + '%'\n",
    "df_vis['Persistent poverty - EU'] = (df_vis['Persistent poverty - EU']).astype(str) + '%'\n",
    "\n",
    "df_vis"
   ]
  },
  {
   "cell_type": "code",
   "execution_count": 12,
   "metadata": {},
   "outputs": [
    {
     "data": {
      "text/plain": [
       "<matplotlib.legend.Legend at 0x28b06f73ca0>"
      ]
     },
     "execution_count": 12,
     "metadata": {},
     "output_type": "execute_result"
    },
    {
     "data": {
      "image/png": "[encoded data removed]",
      "text/plain": [
       "<Figure size 432x288 with 1 Axes>"
      ]
     },
     "metadata": {
      "needs_background": "light"
     },
     "output_type": "display_data"
    }
   ],
   "source": [
    "ax = df.plot(kind = \"line\", grid=True, title=\"UK and EU poverty rates\")\n",
    "plt.legend(loc='center left', bbox_to_anchor=(1, 0.5))"
   ]
  },
  {
   "cell_type": "markdown",
   "metadata": {},
   "source": [
    "In 2008 the UK and EU average rates of persistent poverty were approximately equal, at 8.5% and 8.7% respectively. Over time the EU average seems to have steadily risen to 11.3%, where the UK rate has fluctuated steadily around 8% (+/- 1.5%), with a trough in 2014.  \n",
    "\n",
    "The overall poverty rates in the UK was 18.7%, and the EU average was much lower, at 16.6%, and jsut like to persistent poverty rates, the EU average seems to have remained more or less steady, being 16.9% in 2017. The uk rates, once again, seem to have fluctuated over time and end at 17%.  \n",
    "\n",
    "Hypothetically, the fluctuations between the rates for 1 country compared to the smoothness of the EU average makes sense considering that EU countries have influence over each other and are averaged. In the following graph we will compare different countries to each other and if we had this data over time we would likey also see fluctuations in individual rates over time. \n",
    "\n",
    "By plotting this data (due to the large range of points) we can try to determine a correlation between poverty and persistent poverty"
   ]
  },
  {
   "cell_type": "code",
   "execution_count": 13,
   "metadata": {},
   "outputs": [
    {
     "data": {
      "image/png": "[encoded data removed]",
      "text/plain": [
       "<Figure size 432x288 with 1 Axes>"
      ]
     },
     "metadata": {
      "needs_background": "light"
     },
     "output_type": "display_data"
    },
    {
     "data": {
      "image/png": "[encoded data removed]",
      "text/plain": [
       "<Figure size 432x288 with 1 Axes>"
      ]
     },
     "metadata": {
      "needs_background": "light"
     },
     "output_type": "display_data"
    }
   ],
   "source": [
    "ax = df.plot(kind=\"scatter\", \n",
    "             x='Overall poverty - UK', \n",
    "             y='Persistent poverty - UK', \n",
    "             title=\"UK Persistent poverty against Overall poverty, by year\", \n",
    "            )\n",
    "\n",
    "ax2 = df.plot(kind=\"scatter\", \n",
    "             x='Overall poverty - EU', \n",
    "             y='Persistent poverty - EU', \n",
    "             title=\"EU Persistent poverty against Overall poverty, by year\", \n",
    "            )"
   ]
  },
  {
   "cell_type": "markdown",
   "metadata": {},
   "source": [
    "Regarding the data above, a correlation seems inevitable, but is apparantly not obvious. It should be noted that the UK's erratic changes in poverty rate may cause us to not see a clear correlation, where Europe's smoother curve makes a trend more visible"
   ]
  },
  {
   "cell_type": "markdown",
   "metadata": {},
   "source": [
    "### Poverty rates across the EU and other select countries, 2017\n",
    "\n",
    "Here we will be checking the poverty rates in 2017 between European countries (listed in the introduction). Since Slovakia's Persistent Poverty Percentage is unavailable, Slovakia's data will be removed form this comparison to avoid skewing. Apart from Slovakia, several other countries are completely missing from this dataset, such as Kosovo, Switzerland and Ukraine.  \n",
    "\n",
    "ONS claims that Countries tend to have similar poverty rates as their neighbours. As there will be no point visualising each individual country, I will be grouping them by region. After searching a few different ways to do this, I decided to settle with the lists in the [CIA world factbook](https://www.cia.gov/library/publications/the-world-factbook/)."
   ]
  },
  {
   "cell_type": "code",
   "execution_count": 14,
   "metadata": {},
   "outputs": [
    {
     "data": {
      "text/html": [
       "<div>\n",
       "<style scoped>\n",
       "    .dataframe tbody tr th:only-of-type {\n",
       "        vertical-align: middle;\n",
       "    }\n",
       "\n",
       "    .dataframe tbody tr th {\n",
       "        vertical-align: top;\n",
       "    }\n",
       "\n",
       "    .dataframe thead th {\n",
       "        text-align: right;\n",
       "    }\n",
       "</style>\n",
       "<table border=\"1\" class=\"dataframe\">\n",
       "  <thead>\n",
       "    <tr style=\"text-align: right;\">\n",
       "      <th></th>\n",
       "      <th>Persistent poverty</th>\n",
       "      <th>Overall poverty</th>\n",
       "    </tr>\n",
       "    <tr>\n",
       "      <th>Country</th>\n",
       "      <th></th>\n",
       "      <th></th>\n",
       "    </tr>\n",
       "  </thead>\n",
       "  <tbody>\n",
       "    <tr>\n",
       "      <th>Austria</th>\n",
       "      <td>9.1</td>\n",
       "      <td>14.4</td>\n",
       "    </tr>\n",
       "    <tr>\n",
       "      <th>Belgium</th>\n",
       "      <td>10.8</td>\n",
       "      <td>15.9</td>\n",
       "    </tr>\n",
       "    <tr>\n",
       "      <th>Bulgaria</th>\n",
       "      <td>15.9</td>\n",
       "      <td>23.4</td>\n",
       "    </tr>\n",
       "    <tr>\n",
       "      <th>Croatia</th>\n",
       "      <td>15.2</td>\n",
       "      <td>20.0</td>\n",
       "    </tr>\n",
       "    <tr>\n",
       "      <th>Cyprus</th>\n",
       "      <td>6.6</td>\n",
       "      <td>15.7</td>\n",
       "    </tr>\n",
       "    <tr>\n",
       "      <th>Czechia</th>\n",
       "      <td>4.4</td>\n",
       "      <td>9.1</td>\n",
       "    </tr>\n",
       "    <tr>\n",
       "      <th>Denmark</th>\n",
       "      <td>5.5</td>\n",
       "      <td>12.4</td>\n",
       "    </tr>\n",
       "    <tr>\n",
       "      <th>Estonia</th>\n",
       "      <td>16.1</td>\n",
       "      <td>21.0</td>\n",
       "    </tr>\n",
       "    <tr>\n",
       "      <th>Finland</th>\n",
       "      <td>6.0</td>\n",
       "      <td>11.5</td>\n",
       "    </tr>\n",
       "    <tr>\n",
       "      <th>France</th>\n",
       "      <td>8.0</td>\n",
       "      <td>13.3</td>\n",
       "    </tr>\n",
       "    <tr>\n",
       "      <th>Germany</th>\n",
       "      <td>11.6</td>\n",
       "      <td>16.1</td>\n",
       "    </tr>\n",
       "    <tr>\n",
       "      <th>Greece</th>\n",
       "      <td>14.0</td>\n",
       "      <td>20.2</td>\n",
       "    </tr>\n",
       "    <tr>\n",
       "      <th>Hungary</th>\n",
       "      <td>5.8</td>\n",
       "      <td>13.4</td>\n",
       "    </tr>\n",
       "    <tr>\n",
       "      <th>Ireland</th>\n",
       "      <td>9.3</td>\n",
       "      <td>15.6</td>\n",
       "    </tr>\n",
       "    <tr>\n",
       "      <th>Italy</th>\n",
       "      <td>13.9</td>\n",
       "      <td>20.3</td>\n",
       "    </tr>\n",
       "    <tr>\n",
       "      <th>Latvia</th>\n",
       "      <td>14.9</td>\n",
       "      <td>22.1</td>\n",
       "    </tr>\n",
       "    <tr>\n",
       "      <th>Lithuania</th>\n",
       "      <td>16.1</td>\n",
       "      <td>22.9</td>\n",
       "    </tr>\n",
       "    <tr>\n",
       "      <th>Luxembourg</th>\n",
       "      <td>10.1</td>\n",
       "      <td>18.7</td>\n",
       "    </tr>\n",
       "    <tr>\n",
       "      <th>Malta</th>\n",
       "      <td>10.7</td>\n",
       "      <td>16.7</td>\n",
       "    </tr>\n",
       "    <tr>\n",
       "      <th>Netherlands</th>\n",
       "      <td>5.6</td>\n",
       "      <td>13.2</td>\n",
       "    </tr>\n",
       "    <tr>\n",
       "      <th>North Macedonia</th>\n",
       "      <td>15.2</td>\n",
       "      <td>22.2</td>\n",
       "    </tr>\n",
       "    <tr>\n",
       "      <th>Norway</th>\n",
       "      <td>5.2</td>\n",
       "      <td>12.3</td>\n",
       "    </tr>\n",
       "    <tr>\n",
       "      <th>Poland</th>\n",
       "      <td>9.1</td>\n",
       "      <td>15.0</td>\n",
       "    </tr>\n",
       "    <tr>\n",
       "      <th>Portugal</th>\n",
       "      <td>14.2</td>\n",
       "      <td>18.3</td>\n",
       "    </tr>\n",
       "    <tr>\n",
       "      <th>Romania</th>\n",
       "      <td>19.1</td>\n",
       "      <td>23.6</td>\n",
       "    </tr>\n",
       "    <tr>\n",
       "      <th>Serbia</th>\n",
       "      <td>18.4</td>\n",
       "      <td>25.7</td>\n",
       "    </tr>\n",
       "    <tr>\n",
       "      <th>Slovenia</th>\n",
       "      <td>8.2</td>\n",
       "      <td>13.3</td>\n",
       "    </tr>\n",
       "    <tr>\n",
       "      <th>Spain</th>\n",
       "      <td>14.7</td>\n",
       "      <td>21.6</td>\n",
       "    </tr>\n",
       "    <tr>\n",
       "      <th>Sweden</th>\n",
       "      <td>7.1</td>\n",
       "      <td>15.8</td>\n",
       "    </tr>\n",
       "    <tr>\n",
       "      <th>Turkey</th>\n",
       "      <td>14.9</td>\n",
       "      <td>22.2</td>\n",
       "    </tr>\n",
       "    <tr>\n",
       "      <th>United Kingdom</th>\n",
       "      <td>7.8</td>\n",
       "      <td>17.0</td>\n",
       "    </tr>\n",
       "  </tbody>\n",
       "</table>\n",
       "</div>"
      ],
      "text/plain": [
       "                 Persistent poverty  Overall poverty\n",
       "Country                                             \n",
       "Austria                         9.1             14.4\n",
       "Belgium                        10.8             15.9\n",
       "Bulgaria                       15.9             23.4\n",
       "Croatia                        15.2             20.0\n",
       "Cyprus                          6.6             15.7\n",
       "Czechia                         4.4              9.1\n",
       "Denmark                         5.5             12.4\n",
       "Estonia                        16.1             21.0\n",
       "Finland                         6.0             11.5\n",
       "France                          8.0             13.3\n",
       "Germany                        11.6             16.1\n",
       "Greece                         14.0             20.2\n",
       "Hungary                         5.8             13.4\n",
       "Ireland                         9.3             15.6\n",
       "Italy                          13.9             20.3\n",
       "Latvia                         14.9             22.1\n",
       "Lithuania                      16.1             22.9\n",
       "Luxembourg                     10.1             18.7\n",
       "Malta                          10.7             16.7\n",
       "Netherlands                     5.6             13.2\n",
       "North Macedonia                15.2             22.2\n",
       "Norway                          5.2             12.3\n",
       "Poland                          9.1             15.0\n",
       "Portugal                       14.2             18.3\n",
       "Romania                        19.1             23.6\n",
       "Serbia                         18.4             25.7\n",
       "Slovenia                        8.2             13.3\n",
       "Spain                          14.7             21.6\n",
       "Sweden                          7.1             15.8\n",
       "Turkey                         14.9             22.2\n",
       "United Kingdom                  7.8             17.0"
      ]
     },
     "metadata": {},
     "output_type": "display_data"
    },
    {
     "data": {
      "text/html": [
       "<div>\n",
       "<style scoped>\n",
       "    .dataframe tbody tr th:only-of-type {\n",
       "        vertical-align: middle;\n",
       "    }\n",
       "\n",
       "    .dataframe tbody tr th {\n",
       "        vertical-align: top;\n",
       "    }\n",
       "\n",
       "    .dataframe thead th {\n",
       "        text-align: right;\n",
       "    }\n",
       "</style>\n",
       "<table border=\"1\" class=\"dataframe\">\n",
       "  <thead>\n",
       "    <tr style=\"text-align: right;\">\n",
       "      <th></th>\n",
       "      <th>Central</th>\n",
       "      <th>West</th>\n",
       "      <th>South West</th>\n",
       "      <th>North</th>\n",
       "      <th>East</th>\n",
       "      <th>South East</th>\n",
       "      <th>South</th>\n",
       "    </tr>\n",
       "  </thead>\n",
       "  <tbody>\n",
       "    <tr>\n",
       "      <th>Persistent poverty</th>\n",
       "      <td>8.03%</td>\n",
       "      <td>9.52%</td>\n",
       "      <td>14.45%</td>\n",
       "      <td>5.95%</td>\n",
       "      <td>15.7%</td>\n",
       "      <td>16.45%</td>\n",
       "      <td>10.3%</td>\n",
       "    </tr>\n",
       "    <tr>\n",
       "      <th>Overall poverty</th>\n",
       "      <td>13.55%</td>\n",
       "      <td>16.34%</td>\n",
       "      <td>19.95%</td>\n",
       "      <td>13.0%</td>\n",
       "      <td>22.0%</td>\n",
       "      <td>22.85%</td>\n",
       "      <td>17.95%</td>\n",
       "    </tr>\n",
       "  </tbody>\n",
       "</table>\n",
       "</div>"
      ],
      "text/plain": [
       "                   Central    West South West  North   East South East   South\n",
       "Persistent poverty   8.03%   9.52%     14.45%  5.95%  15.7%     16.45%   10.3%\n",
       "Overall poverty     13.55%  16.34%     19.95%  13.0%  22.0%     22.85%  17.95%"
      ]
     },
     "metadata": {},
     "output_type": "display_data"
    }
   ],
   "source": [
    "# Table 1. Poverty rates across the EU and other select countries, 2017\n",
    "df = pd.read_excel('CW dataset - Persistent Poverty in the UK and EU, 2017.xls', \n",
    "                   sheet_name='Table 1', \n",
    "                   header=1, \n",
    "                   usecols=\"A:C\", \n",
    "                   names=[\"Country\", \"Persistent poverty\", \"Overall poverty\"], \n",
    "                   index_col=\"Country\", \n",
    "                   skipfooter=5\n",
    "                  ) \n",
    "\n",
    "# set existing index as categorical dtype\n",
    "pd.CategoricalIndex(df)\n",
    "\n",
    "# remove slovakia\n",
    "df.drop(labels=\"Slovakia\", axis=0, inplace=True)\n",
    "\n",
    "df['Persistent poverty'] = (df['Persistent poverty']).astype('float').round(1)\n",
    "df['Overall poverty'] = (df['Overall poverty']).astype('float').round(1)\n",
    "\n",
    "# splitting into regions\n",
    "df_region = pd.DataFrame()   \n",
    "df_region[\"Central\"] = df.loc[['Germany', 'Poland', 'Austria', 'Czechia', 'Slovenia', 'Hungary']].mean().round(2)\n",
    "df_region[\"West\"] = df.loc[['United Kingdom', 'Ireland', 'France', 'Belgium', 'Netherlands', 'Italy', 'Malta', 'Luxembourg']].mean().round(2)\n",
    "df_region[\"South West\"] = df.loc[['Spain', 'Portugal']].mean().round(2)\n",
    "df_region[\"North\"] = df.loc[['Norway', 'Sweden', 'Finland', 'Denmark']].mean().round(2)\n",
    "df_region[\"East\"] = df.loc[['Estonia', 'Latvia', 'Lithuania']].mean().round(2)\n",
    "df_region[\"South East\"] = df.loc[['Croatia', 'North Macedonia', 'Serbia', 'Bulgaria', 'Turkey', \"Romania\"]].mean().round(2)\n",
    "df_region[\"South\"] = df.loc[['Greece', 'Cyprus']].mean().round(2)\n",
    "\n",
    "# df_region_vis\n",
    "df_region_vis = df_region.copy()\n",
    "df_region_vis[\"Central\"] = (df_region_vis[\"Central\"]).astype(str) + '%'\n",
    "df_region_vis[\"West\"] = (df_region_vis[\"West\"]).astype(str) + '%'\n",
    "df_region_vis[\"South West\"] = (df_region_vis[\"South West\"]).astype(str) + '%'\n",
    "df_region_vis[\"North\"] = (df_region_vis[\"North\"]).astype(str) + '%'\n",
    "df_region_vis[\"East\"] = (df_region_vis[\"East\"]).astype(str) + '%'\n",
    "df_region_vis[\"South East\"] = (df_region_vis[\"South East\"]).astype(str) + '%'\n",
    "df_region_vis[\"South\"] = (df_region_vis[\"South\"]).astype(str) + '%'\n",
    "\n",
    "\n",
    "\n",
    "display(df)\n",
    "display(df_region_vis)"
   ]
  },
  {
   "cell_type": "code",
   "execution_count": 15,
   "metadata": {},
   "outputs": [
    {
     "data": {
      "text/plain": [
       "<matplotlib.legend.Legend at 0x28b072f3a90>"
      ]
     },
     "execution_count": 15,
     "metadata": {},
     "output_type": "execute_result"
    },
    {
     "data": {
      "image/png": "[encoded data removed]",
      "text/plain": [
       "<Figure size 432x288 with 1 Axes>"
      ]
     },
     "metadata": {
      "needs_background": "light"
     },
     "output_type": "display_data"
    }
   ],
   "source": [
    "ax = df_region.plot(kind = \"bar\", grid=True, title=\"Poverty by European region\")\n",
    "plt.legend(loc='center left', bbox_to_anchor=(1, 0.5))"
   ]
  },
  {
   "cell_type": "markdown",
   "metadata": {},
   "source": [
    "As we can see, the most poverty stricken region of Europe is the South West, consisting of only Greece and Cyprus. The least poverty stricken region is the North: Norway, Sweden, Finland and Denmark. There was no data for Iceland, which would also have been grouped into this region. As it stands, Iceland continually has an incredibly low rate of poverty, with [borgenproject](https://borgenproject.org/) claiming the rate to have been 6.5% in 2017. "
   ]
  },
  {
   "cell_type": "markdown",
   "metadata": {},
   "source": [
    "## Conclusion\n",
    "\n",
    "Key findings:\n",
    "\n",
    "- Approximately 1/3 of people in the UK, across poverty groups, cannot face unexpected expenses. \n",
    "\n",
    "- Material deprivation affects peope from all poverty classes.  \n",
    "\n",
    "- Entry rates into poverty have been steady between 2008 and 2017, but the exit rates have started declining, meaning that poverty is increasing in the UK\n",
    "\n",
    "- Material deprivation and persistent material deprivation rates in the UK have been dropping over recent years\n",
    "\n",
    "- UK poverty rates in 2017 are around the European average, and were much higher in 2008\n",
    "\n",
    "- Persistent poverty rates are currently much lower than the european average, and were approximately equal in 2008\n",
    "\n",
    "- Poverty and material deprivation seem to correlate, but due to the amount of factors to consider we cannot mathematically relate these 2 values to one another based on each other alone\n",
    "\n",
    "- northern europe has very low rates of poverty across the board, in contrast to southern europe which has high rates.\n",
    "\n",
    "Process Evaluation:  \n",
    "\n",
    "- Using the dataset I had, I believe I did a good job with my decisions, and ordering when structuring this notebook. \n",
    "\n",
    "- If I was more comfortble with combining tables then some cross-dataset visualisations could have come from my data, leading to more hypotheses. \n",
    "\n",
    "what did you learn?\n",
    "\n",
    "- I've never made a notebook before and I've become fairly comfortable with it. \n",
    "\n",
    "- Different types of visualisations work better for different datasets, however, sometimes using them for non-standard reasons can be beneficial. \n",
    "\n",
    "what could you have improved?\n",
    "- Collating several datasets would make for a much larger project, but would make the findings more trustable. \n",
    "\n",
    "- If possible, I would have liked to make a scatterplot of all European countries, coloured by region, to better be able to interpret any ourliers amongst the \"geographically close\" regions. \n",
    "\n",
    "- Some dataframes could have been tidied further, but I found them to be useable as they were. \n"
   ]
  }
 ],
 "metadata": {
  "kernelspec": {
   "display_name": "Python 3",
   "language": "python",
   "name": "python3"
  },
  "language_info": {
   "codemirror_mode": {
    "name": "ipython",
    "version": 3
   },
   "file_extension": ".py",
   "mimetype": "text/x-python",
   "name": "python",
   "nbconvert_exporter": "python",
   "pygments_lexer": "ipython3",
   "version": "3.8.6"
  }
 },
 "nbformat": 4,
 "nbformat_minor": 4
}
